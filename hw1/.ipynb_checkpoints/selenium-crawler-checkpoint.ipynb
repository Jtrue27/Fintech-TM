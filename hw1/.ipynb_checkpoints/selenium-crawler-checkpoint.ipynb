{
 "cells": [
  {
   "cell_type": "code",
   "execution_count": 131,
   "metadata": {},
   "outputs": [],
   "source": [
    "import sys\n",
    "import pickle\n",
    "import requests\n",
    "from datetime import datetime\n",
    "from bs4 import BeautifulSoup\n",
    "from selenium import webdriver\n",
    "from selenium.webdriver.common.keys import Keys\n",
    "from selenium.webdriver.common.action_chains import ActionChains"
   ]
  },
  {
   "cell_type": "code",
   "execution_count": 132,
   "metadata": {},
   "outputs": [],
   "source": [
    "driver = webdriver.Chrome('./chromedriver')\n",
    "driver.get('https://www.moneydj.com/etf/x/basic/basic0003.xdjhtm?etfid=ewj')"
   ]
  },
  {
   "cell_type": "code",
   "execution_count": 133,
   "metadata": {},
   "outputs": [],
   "source": [
    "element = driver.find_element_by_css_selector(\"#aspnetForm > div:nth-child(11) > div:nth-child(4) > div.eTitle > table > tbody > tr > td:nth-child(1) > select:nth-child(1)\")\n",
    "all_options = element.find_elements_by_tag_name(\"option\")\n",
    "for option in all_options:\n",
    "    if '2015'==option.get_attribute(\"value\"):\n",
    "    #print(\"Value is: %s\" % option.get_attribute(\"value\"))\n",
    "        option.click()"
   ]
  },
  {
   "cell_type": "code",
   "execution_count": 134,
   "metadata": {},
   "outputs": [],
   "source": [
    "element = driver.find_element_by_css_selector(\"#aspnetForm > div:nth-child(11) > div:nth-child(4) > div.eTitle > table > tbody > tr > td:nth-child(1) > select:nth-child(2)\")\n",
    "all_options = element.find_elements_by_tag_name(\"option\")\n",
    "for option in all_options:\n",
    "    #print(\"Value is: %s\" % option.get_attribute(\"value\"))\n",
    "    if '12'==option.get_attribute(\"value\"):\n",
    "    \n",
    "        option.click()"
   ]
  },
  {
   "cell_type": "code",
   "execution_count": 135,
   "metadata": {},
   "outputs": [],
   "source": [
    "element = driver.find_element_by_css_selector(\"#aspnetForm > div:nth-child(11) > div:nth-child(4) > div.eTitle > table > tbody > tr > td:nth-child(1) > select:nth-child(3)\")\n",
    "all_options = element.find_elements_by_tag_name(\"option\")\n",
    "for option in all_options:\n",
    "    if '31'==option.get_attribute(\"value\"):\n",
    "    #print(\"Value is: %s\" % option.get_attribute(\"value\"))\n",
    "        option.click()"
   ]
  },
  {
   "cell_type": "code",
   "execution_count": 136,
   "metadata": {},
   "outputs": [],
   "source": [
    "element = driver.find_element_by_css_selector(\"#aspnetForm > div:nth-child(11) > div:nth-child(4) > div.eTitle > table > tbody > tr > td:nth-child(1) > select:nth-child(4)\")\n",
    "all_options = element.find_elements_by_tag_name(\"option\")\n",
    "for option in all_options:\n",
    "    if '2018'==option.get_attribute(\"value\"):\n",
    "    #print(\"Value is: %s\" % option.get_attribute(\"value\"))\n",
    "        option.click()"
   ]
  },
  {
   "cell_type": "code",
   "execution_count": 137,
   "metadata": {},
   "outputs": [],
   "source": [
    "element = driver.find_element_by_css_selector(\"#aspnetForm > div:nth-child(11) > div:nth-child(4) > div.eTitle > table > tbody > tr > td:nth-child(1) > select:nth-child(5)\")\n",
    "all_options = element.find_elements_by_tag_name(\"option\")\n",
    "for option in all_options:\n",
    "    if '12'==option.get_attribute(\"value\"):\n",
    "    #print(\"Value is: %s\" % option.get_attribute(\"value\"))\n",
    "        option.click()"
   ]
  },
  {
   "cell_type": "code",
   "execution_count": 138,
   "metadata": {},
   "outputs": [],
   "source": [
    "element = driver.find_element_by_css_selector(\"#aspnetForm > div:nth-child(11) > div:nth-child(4) > div.eTitle > table > tbody > tr > td:nth-child(1) > select:nth-child(6)\")\n",
    "all_options = element.find_elements_by_tag_name(\"option\")\n",
    "for option in all_options:\n",
    "    if '31'==option.get_attribute(\"value\"):\n",
    "    #print(\"Value is: %s\" % option.get_attribute(\"value\"))\n",
    "        option.click()"
   ]
  },
  {
   "cell_type": "code",
   "execution_count": 139,
   "metadata": {},
   "outputs": [],
   "source": [
    "driver.find_element_by_css_selector(\"#aspnetForm > div:nth-child(11) > div:nth-child(4) > div.eTitle > table > tbody > tr > td:nth-child(1) > a > img\").click()"
   ]
  },
  {
   "cell_type": "code",
   "execution_count": 140,
   "metadata": {},
   "outputs": [],
   "source": [
    "target=driver.find_element_by_css_selector(\"#chart > div.opsView > div.opsCanvas > div.opsTip > div\")\n",
    "#chart > div.opsView > div.opsCanvas > div.opsSensor\n",
    "#chart > div.opsView > div.opsCanvas > div.opsTip\n",
    "#chart > div.opsView > div.opsCanvas > div.opsTip > div"
   ]
  },
  {
   "cell_type": "code",
   "execution_count": 141,
   "metadata": {},
   "outputs": [],
   "source": [
    "actions=ActionChains(driver)\n",
    "actions.move_to_element(target).perform()"
   ]
  },
  {
   "cell_type": "code",
   "execution_count": null,
   "metadata": {},
   "outputs": [],
   "source": []
  },
  {
   "cell_type": "code",
   "execution_count": null,
   "metadata": {},
   "outputs": [],
   "source": []
  }
 ],
 "metadata": {
  "kernelspec": {
   "display_name": "Python 3",
   "language": "python",
   "name": "python3"
  },
  "language_info": {
   "codemirror_mode": {
    "name": "ipython",
    "version": 3
   },
   "file_extension": ".py",
   "mimetype": "text/x-python",
   "name": "python",
   "nbconvert_exporter": "python",
   "pygments_lexer": "ipython3",
   "version": "3.7.0"
  }
 },
 "nbformat": 4,
 "nbformat_minor": 2
}
