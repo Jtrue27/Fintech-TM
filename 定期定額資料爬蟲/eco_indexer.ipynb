{
 "cells": [
  {
   "cell_type": "code",
   "execution_count": 1,
   "metadata": {},
   "outputs": [],
   "source": [
    "import  pandas as pd\n",
    "from  datetime import datetime\n",
    "import numpy as np"
   ]
  },
  {
   "cell_type": "code",
   "execution_count": 2,
   "metadata": {},
   "outputs": [],
   "source": [
    "month_data=pd.read_csv('./Monthly Data.csv')"
   ]
  },
  {
   "cell_type": "code",
   "execution_count": 3,
   "metadata": {},
   "outputs": [],
   "source": [
    "def get_raw_index(data,country):\n",
    "    date={\n",
    "        'year':data['Year'],\n",
    "        'month':data['Month'],\n",
    "        'day':1\n",
    "    }\n",
    "    df = pd.DataFrame(date)\n",
    "    data['Date']=pd.to_datetime(df)\n",
    "    start_date = \"2016/04\" \n",
    "    stop_date=\"2019/03\"\n",
    "    start=datetime.strptime(start_date,\"%Y/%m\")\n",
    "    stop=datetime.strptime(stop_date,\"%Y/%m\")\n",
    "    country=data['Country']==country\n",
    "    data=data[(data['Date']>=start) & (data['Date']<=stop) &country]\n",
    "    data.replace(to_replace=r'^\\s*$',value=np.nan,regex=True,inplace=True)\n",
    "    # month_data\n",
    "    data.dropna(inplace=True,axis='columns')\n",
    "    data.set_index('Date',inplace=True)\n",
    "    brazil=data.drop(['Code','Year','Month','Country'],axis=1)\n",
    "    return brazil"
   ]
  },
  {
   "cell_type": "code",
   "execution_count": 4,
   "metadata": {},
   "outputs": [],
   "source": [
    "\n",
    "def get_index_percent(brazil): # input raw data\n",
    "    brazil[' Consumer Price Index (CPI)']= brazil[' Consumer Price Index (CPI)'].astype(float)/brazil[' Consumer Price Index (CPI)'].astype(float).max()\n",
    "    brazil[' Money supply (broad money)']= brazil[' Money supply (broad money)'].astype(float)/brazil[' Money supply (broad money)'].astype(float).max()\n",
    "    if ' Mortgage credit interest rate' in brazil.columns:\n",
    "        brazil[' Mortgage credit interest rate']= brazil[' Mortgage credit interest rate'].astype(float)/brazil[' Mortgage credit interest rate'].astype(float).max()\n",
    "    if '  Business credit interest rate' in brazil.columns:\n",
    "        brazil[' Business credit interest rate']= brazil[' Business credit interest rate'].astype(float)/brazil[' Business credit interest rate'].astype(float).max()\n",
    "    if '   Exports' in brazil.columns:\n",
    "        brazil[' Exports']= brazil[' Exports'].astype(float)/brazil[' Exports'].astype(float).max()\n",
    "    if ' Inflation monthly' in brazil.columns:\n",
    "        brazil[' Inflation monthly']= brazil[' Inflation monthly'].astype(float)/brazil[' Inflation monthly'].astype(float).max()\n",
    "    brazil[' Exchange rate to USD']= brazil[' Exchange rate to USD'].astype(float)/brazil[' Exchange rate to USD'].astype(float).max()\n",
    "    return brazil\n"
   ]
  },
  {
   "cell_type": "code",
   "execution_count": 12,
   "metadata": {},
   "outputs": [
    {
     "name": "stderr",
     "output_type": "stream",
     "text": [
      "/Library/Frameworks/Python.framework/Versions/3.6/lib/python3.6/site-packages/ipykernel_launcher.py:17: SettingWithCopyWarning: \n",
      "A value is trying to be set on a copy of a slice from a DataFrame\n",
      "\n",
      "See the caveats in the documentation: http://pandas.pydata.org/pandas-docs/stable/indexing.html#indexing-view-versus-copy\n"
     ]
    }
   ],
   "source": [
    "df_brazil=get_raw_index(month_data,'Brazil')\n",
    "#df_brazil=get_index_percent(df_brazil)\n",
    "df_brazil=get_index_percent(df_brazil).drop([' Business credit interest rate',' Current account balance',' Exports',' Budget balance',' Mortgage credit interest rate',' Inflation monthly'],axis=1)\n",
    "df_brazil=df_brazil.rename(index=str, columns={\" Consumer Price Index (CPI)\": \"Consumer Price Index (CPI)\", \" Money supply (broad money)\": \"Money supply (broad money)\",\" Exchange rate to USD\":\"Exchange rate to USD\"})\n"
   ]
  },
  {
   "cell_type": "code",
   "execution_count": 13,
   "metadata": {},
   "outputs": [
    {
     "name": "stderr",
     "output_type": "stream",
     "text": [
      "/Library/Frameworks/Python.framework/Versions/3.6/lib/python3.6/site-packages/ipykernel_launcher.py:17: SettingWithCopyWarning: \n",
      "A value is trying to be set on a copy of a slice from a DataFrame\n",
      "\n",
      "See the caveats in the documentation: http://pandas.pydata.org/pandas-docs/stable/indexing.html#indexing-view-versus-copy\n"
     ]
    }
   ],
   "source": [
    "df_china=get_raw_index(month_data,'China')\n",
    "df_china=get_index_percent(df_china)\n",
    "df_china=df_china.rename(index=str, columns={\" Consumer Price Index (CPI)\": \"Consumer Price Index (CPI)\", \" Money supply (broad money)\": \"Money supply (broad money)\",\" Exchange rate to USD\":\"Exchange rate to USD\"})\n"
   ]
  },
  {
   "cell_type": "code",
   "execution_count": 14,
   "metadata": {},
   "outputs": [
    {
     "name": "stderr",
     "output_type": "stream",
     "text": [
      "/Library/Frameworks/Python.framework/Versions/3.6/lib/python3.6/site-packages/ipykernel_launcher.py:17: SettingWithCopyWarning: \n",
      "A value is trying to be set on a copy of a slice from a DataFrame\n",
      "\n",
      "See the caveats in the documentation: http://pandas.pydata.org/pandas-docs/stable/indexing.html#indexing-view-versus-copy\n"
     ]
    }
   ],
   "source": [
    "df_russia=get_raw_index(month_data,'Russia')\n",
    "df_russia=get_index_percent(df_russia).drop([' Business credit interest rate',' Budget balance',' Minimum wage',' Unemployment rate ',' Inflation monthly'],axis=1)\n",
    "df_russia=df_russia.rename(index=str, columns={\" Consumer Price Index (CPI)\": \"Consumer Price Index (CPI)\", \" Money supply (broad money)\": \"Money supply (broad money)\",\" Exchange rate to USD\":\"Exchange rate to USD\"})\n"
   ]
  },
  {
   "cell_type": "code",
   "execution_count": 15,
   "metadata": {},
   "outputs": [
    {
     "name": "stderr",
     "output_type": "stream",
     "text": [
      "/Library/Frameworks/Python.framework/Versions/3.6/lib/python3.6/site-packages/ipykernel_launcher.py:17: SettingWithCopyWarning: \n",
      "A value is trying to be set on a copy of a slice from a DataFrame\n",
      "\n",
      "See the caveats in the documentation: http://pandas.pydata.org/pandas-docs/stable/indexing.html#indexing-view-versus-copy\n"
     ]
    }
   ],
   "source": [
    "df_india=get_raw_index(month_data,'India')\n",
    "df_india=get_index_percent(df_india).drop([' Budget balance',' Inflation monthly'],axis=1)\n",
    "df_india=df_india.rename(index=str, columns={\" Consumer Price Index (CPI)\": \"Consumer Price Index (CPI)\", \" Money supply (broad money)\": \"Money supply (broad money)\",\" Exchange rate to USD\":\"Exchange rate to USD\"})\n"
   ]
  },
  {
   "cell_type": "code",
   "execution_count": 18,
   "metadata": {},
   "outputs": [],
   "source": [
    "f = open('india_index.json','w')\n",
    "f.write(df_india.to_json(force_ascii=False))\n",
    "f.close()"
   ]
  },
  {
   "cell_type": "code",
   "execution_count": 19,
   "metadata": {},
   "outputs": [],
   "source": [
    "f = open('brazil_index.json','w')\n",
    "f.write(df_brazil.to_json(force_ascii=False))\n",
    "f.close()"
   ]
  },
  {
   "cell_type": "code",
   "execution_count": 20,
   "metadata": {},
   "outputs": [],
   "source": [
    "f = open('russia_index.json','w')\n",
    "f.write(df_russia.to_json(force_ascii=False))\n",
    "f.close()"
   ]
  },
  {
   "cell_type": "code",
   "execution_count": 21,
   "metadata": {},
   "outputs": [],
   "source": [
    "f = open('russia_index.json','w')\n",
    "f.write(df_china.to_json(force_ascii=False))\n",
    "f.close()"
   ]
  },
  {
   "cell_type": "code",
   "execution_count": null,
   "metadata": {},
   "outputs": [],
   "source": []
  }
 ],
 "metadata": {
  "kernelspec": {
   "display_name": "Python 3",
   "language": "python",
   "name": "python3"
  },
  "language_info": {
   "codemirror_mode": {
    "name": "ipython",
    "version": 3
   },
   "file_extension": ".py",
   "mimetype": "text/x-python",
   "name": "python",
   "nbconvert_exporter": "python",
   "pygments_lexer": "ipython3",
   "version": "3.6.7"
  }
 },
 "nbformat": 4,
 "nbformat_minor": 2
}
